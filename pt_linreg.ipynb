{
  "nbformat": 4,
  "nbformat_minor": 0,
  "metadata": {
    "colab": {
      "name": "Untitled5.ipynb",
      "provenance": [],
      "authorship_tag": "ABX9TyMMV0aqAFIYNUDhT9cyPdwh",
      "include_colab_link": true
    },
    "kernelspec": {
      "name": "python3",
      "display_name": "Python 3"
    },
    "language_info": {
      "name": "python"
    }
  },
  "cells": [
    {
      "cell_type": "markdown",
      "metadata": {
        "id": "view-in-github",
        "colab_type": "text"
      },
      "source": [
        "<a href=\"https://colab.research.google.com/github/AnamarijaKozina/Duboko-ucenje-FER/blob/main/pt_linreg.ipynb\" target=\"_parent\"><img src=\"https://colab.research.google.com/assets/colab-badge.svg\" alt=\"Open In Colab\"/></a>"
      ]
    },
    {
      "cell_type": "code",
      "source": [
        "import torch\n",
        "import torch.nn as nn\n",
        "import torch.optim as optim\n",
        "\n",
        "\n",
        "## Definicija računskog grafa\n",
        "# podaci i parametri, inicijalizacija parametara\n",
        "a = torch.randn(1, requires_grad=True)\n",
        "b = torch.randn(1, requires_grad=True)\n",
        "\n",
        "X = torch.tensor([1, 2, 3.2, -1])\n",
        "Y = torch.tensor([3, 5, 7.4, -1])\n",
        "\n",
        "n = len(Y)\n",
        "\n",
        "# optimizacijski postupak: gradijentni spust\n",
        "optimizer = optim.SGD([a, b], lr=0.1)\n",
        "\n",
        "for i in range(100):\n",
        "    # afin regresijski model\n",
        "    Y_ = a*X + b\n",
        "\n",
        "    diff = (Y-Y_)\n",
        "\n",
        "    # kvadratni gubitak\n",
        "    loss = torch.sum(diff**2)/n\n",
        "\n",
        "    # računanje gradijenata\n",
        "    loss.backward()\n",
        "\n",
        "    # korak optimizacije\n",
        "    optimizer.step()\n",
        "\n",
        "    if(i%20==0):\n",
        "      print(f'Gradijenti koje racuna PyTorch: dL/da = {a.grad.item()}, dL/db = {b.grad.item()}')\n",
        "      print(f'Gradijenti dobiveni analiticki: dL/da = {-2*sum(diff * X)/n}, dL/db = {-2*sum(diff)/n}')\n",
        "\n",
        "    # Postavljanje gradijenata na nulu\n",
        "    optimizer.zero_grad()\n",
        "    if(i%20==0):\n",
        "      print(f'step: {i}, loss:{loss:.8f}, Y_:{Y_.tolist()}, a:{a.item():.8f}, b: {b.item():.8f}\\n')"
      ],
      "metadata": {
        "colab": {
          "base_uri": "https://localhost:8080/"
        },
        "id": "K7pSEJNC95U6",
        "outputId": "c5a6c2c7-73f4-4537-8aca-07a71fbdf46e"
      },
      "execution_count": 47,
      "outputs": [
        {
          "output_type": "stream",
          "name": "stdout",
          "text": [
            "Gradijenti koje racuna PyTorch: dL/da = -22.12369728088379, dL/db = -9.02077579498291\n",
            "Gradijenti dobiveni analiticki: dL/da = -22.12369728088379, dL/db = -9.02077579498291\n",
            "step: 0, loss:31.74561501, Y_:[-0.8523692488670349, -1.045763373374939, -1.2778363227844238, -0.46558111906051636], a:2.01897573, b: 0.24310242\n",
            "\n",
            "Gradijenti koje racuna PyTorch: dL/da = 0.03175335004925728, dL/db = -0.08641481399536133\n",
            "Gradijenti dobiveni analiticki: dL/da = 0.03175335004925728, dL/db = -0.08641481399536133\n",
            "step: 20, loss:0.00405704, Y_:[2.9476728439331055, 4.978072166442871, 7.414551258087158, -1.1131258010864258], a:2.02722406, b: 0.92591500\n",
            "\n",
            "Gradijenti koje racuna PyTorch: dL/da = 0.0034961700439453125, dL/db = -0.00951242446899414\n",
            "Gradijenti dobiveni analiticki: dL/da = 0.0034961700439453125, dL/db = -0.00951242446899414\n",
            "step: 40, loss:0.00004916, Y_:[2.9942398071289062, 4.997586250305176, 7.401602268218994, -1.0124530792236328], a:2.00299692, b: 0.99184453\n",
            "\n",
            "Gradijenti koje racuna PyTorch: dL/da = 0.00038504600524902344, dL/db = -0.001046895980834961\n",
            "Gradijenti dobiveni analiticki: dL/da = 0.00038504600524902344, dL/db = -0.001046895980834961\n",
            "step: 60, loss:0.00000060, Y_:[2.999366044998169, 4.999734401702881, 7.400176525115967, -1.0013706684112549], a:2.00032973, b: 0.99910229\n",
            "\n",
            "Gradijenti koje racuna PyTorch: dL/da = 4.2247771489201114e-05, dL/db = -0.00011539459228515625\n",
            "Gradijenti dobiveni analiticki: dL/da = 4.2247771489201114e-05, dL/db = -0.00011539459228515625\n",
            "step: 80, loss:0.00000001, Y_:[2.9999301433563232, 4.999970436096191, 7.400019645690918, -1.0001509189605713], a:2.00003624, b: 0.99990118\n",
            "\n"
          ]
        }
      ]
    },
    {
      "cell_type": "code",
      "source": [
        ""
      ],
      "metadata": {
        "id": "7P0NJSEq6r6e"
      },
      "execution_count": null,
      "outputs": []
    }
  ]
}
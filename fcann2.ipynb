{
  "nbformat": 4,
  "nbformat_minor": 0,
  "metadata": {
    "colab": {
      "name": "fcann2.ipynb",
      "provenance": [],
      "collapsed_sections": [],
      "authorship_tag": "ABX9TyO8RIVQ7xgGwVKz42S6Oxkb",
      "include_colab_link": true
    },
    "kernelspec": {
      "name": "python3",
      "display_name": "Python 3"
    },
    "language_info": {
      "name": "python"
    }
  },
  "cells": [
    {
      "cell_type": "markdown",
      "metadata": {
        "id": "view-in-github",
        "colab_type": "text"
      },
      "source": [
        "<a href=\"https://colab.research.google.com/github/AnamarijaKozina/Duboko-ucenje-FER/blob/main/fcann2.ipynb\" target=\"_parent\"><img src=\"https://colab.research.google.com/assets/colab-badge.svg\" alt=\"Open In Colab\"/></a>"
      ]
    },
    {
      "cell_type": "code",
      "source": [
        "import numpy as np"
      ],
      "metadata": {
        "id": "OmxBpnj4Fr4s"
      },
      "execution_count": 1,
      "outputs": []
    },
    {
      "cell_type": "code",
      "source": [
        "W1 = np.random.randn(5,4)\n",
        "\n",
        "print(W1, np.sum(np.square(W1)))"
      ],
      "metadata": {
        "colab": {
          "base_uri": "https://localhost:8080/"
        },
        "id": "nhuYxJNUzKOt",
        "outputId": "1bc34665-ce98-401a-dea1-540b8336078a"
      },
      "execution_count": 14,
      "outputs": [
        {
          "output_type": "stream",
          "name": "stdout",
          "text": [
            "[[-0.12397704  0.19072851 -1.19449029  1.60006235]\n",
            " [ 0.03034095  0.79741515 -1.69141624  0.18864899]\n",
            " [-0.53753902  1.18086752 -0.61283947  0.06771082]\n",
            " [-0.80731712 -0.16578194 -0.90964037 -0.79326307]\n",
            " [-1.38071781 -1.17836855  0.76838023 -0.60754502]] 16.02598610366417\n"
          ]
        }
      ]
    },
    {
      "cell_type": "code",
      "source": [
        "def Loss(y_true, y_pred, W1, W2, param_lambda):\n",
        "  N, _ = y_pred.shape\n",
        "  logvalues = y_pred[range(N), y_true]\n",
        "  loss = -np.sum(logvalues) * (1/len(y_true))\n",
        "  #reg = param_lambda * (np.sum(np.square(W1)) + np.sum(np.square(W2)))\n",
        "  return loss "
      ],
      "metadata": {
        "id": "SIHqE-aFCcd9"
      },
      "execution_count": 28,
      "outputs": []
    },
    {
      "cell_type": "code",
      "source": [
        "def fcann2_train(x, y_, n_iter, param_delta):\n",
        "  N, dim = x.shape\n",
        "  n_classes = max(y_) + 1\n",
        "\n",
        "  n_inputs = dim\n",
        "  n_hidden = 5\n",
        "  n_outputs =n_classes\n",
        "\n",
        "  W1 = np.random.randn(n_hidden, n_inputs)\n",
        "  b1 = np.zeros((n_hidden, 1))\n",
        "  W2 = np.random.randn(n_outputs, n_hidden)\n",
        "  b2 = np.zeros((n_outputs, 1))\n",
        "\n",
        "  #model = fcann2(dim, 5, n_classes)\n",
        "  for i in range(n_iter):\n",
        "    #scores = model.forward(train_x)\n",
        "\n",
        "    s1 = np.transpose(np.dot(W1, np.transpose(x)) + b1) # h x N\n",
        "    # x.shape = N x hid\n",
        "    h1 = np.maximum(s1,0) # h x N\n",
        "    s2 = np.transpose(np.dot(W2, np.transpose(h1)) + b2) # c x N\n",
        "    scores = s2 # N x n_outputs/n_classes --> NxC\n",
        "\n",
        "    expscores = np.exp(scores) # N x C\n",
        "    \n",
        "    # nazivnik sofmaksa\n",
        "    sumexp = np.transpose(expscores.sum(1)).reshape((N,1))  # N x 1\n",
        "\n",
        "    # logaritmirane vjerojatnosti razreda \n",
        "    probs = expscores / sumexp     # N x C   ---> ovo je P u zadatku\n",
        "    logprobs = np.log(probs)  # N x C   \n",
        "\n",
        "    # gubitak\n",
        "    loss  = Loss(y_, logprobs, W1, W2, 0.5)   # scalar\n",
        "    \n",
        "    # dijagnostički ispis\n",
        "    if i % 5000 == 0:\n",
        "      print(\"iteration {}: loss {}\".format(i, loss))\n",
        "\n",
        "    Y = np.zeros((N, n_classes))\n",
        "    Y[range(N), y_] = 1\n",
        "    Gs2 = probs - Y # N x C\n",
        "    grad_W2 = np.dot(np.transpose(Gs2), h1)    # --> C x H\n",
        "    grad_b2 = np.transpose(np.sum(Gs2, axis=0)).reshape(b2.shape)    # --> C x 1\n",
        "    Gh1 = np.dot(Gs2, W2) # n x hid\n",
        "    Gs1 = Gh1 * (h1>0) # N x H \n",
        "    grad_W1 = np.dot(np.transpose(Gs1), x)   # H x dim\n",
        "    grad_b1 = np.transpose(np.sum(Gs1, axis=0)).reshape(b1.shape)   # H x 1\n",
        "\n",
        "    # poboljšani parametri\n",
        "    W1 += -param_delta * grad_W1\n",
        "    b1 += -param_delta * grad_b1\n",
        "    W2 += -param_delta * grad_W2\n",
        "    b2 += -param_delta * grad_b2\n",
        "\n",
        "  return W1, W2, b1, b2"
      ],
      "metadata": {
        "id": "4ZfphsCMMK2F"
      },
      "execution_count": 23,
      "outputs": []
    },
    {
      "cell_type": "code",
      "source": [
        "def fcann2_classify(x):\n",
        "  N = x.shape[0]\n",
        "  s1 = np.transpose(np.dot(W1, np.transpose(x)) + b1) # h x N\n",
        "  h1 = np.maximum(s1,0) # h x N\n",
        "  s2 = np.transpose(np.dot(W2, np.transpose(h1)) + b2) # c x N\n",
        "  scores = s2 # --> NxC\n",
        "  expscores = np.exp(scores) # N x C\n",
        "  sumexp = np.transpose(expscores.sum(1)).reshape((N,1))  # N x 1\n",
        "  probs = expscores / sumexp     # N x C\n",
        "\n",
        "  return np.argmax(probs, axis=1)"
      ],
      "metadata": {
        "id": "UwdiE37NMQC7"
      },
      "execution_count": 24,
      "outputs": []
    },
    {
      "cell_type": "code",
      "source": [
        "list = [\n",
        "        [0.33,0.24,0.36],\n",
        "        [0.1, 0.56, 0.98],\n",
        "        [0.57,0.12,0.13]\n",
        "]\n",
        "probs = np.array(list)\n",
        "np.argmax(probs, axis=1)"
      ],
      "metadata": {
        "colab": {
          "base_uri": "https://localhost:8080/"
        },
        "id": "uULmnBIHCpu9",
        "outputId": "4be7e827-79f9-44ea-8479-8d67334ac419"
      },
      "execution_count": 25,
      "outputs": [
        {
          "output_type": "execute_result",
          "data": {
            "text/plain": [
              "array([2, 2, 0])"
            ]
          },
          "metadata": {},
          "execution_count": 25
        }
      ]
    },
    {
      "cell_type": "code",
      "source": [
        "import matplotlib.pyplot as plt\n",
        "import random\n",
        "\n",
        "class Random2DGaussian:\n",
        "  \"\"\"Random bivariate normal distribution sampler\n",
        "\n",
        "  Hardwired parameters:\n",
        "      d0min,d0max: horizontal range for the mean\n",
        "      d1min,d1max: vertical range for the mean\n",
        "      scalecov: controls the covariance range \n",
        "\n",
        "  Methods:\n",
        "      __init__: creates a new distribution\n",
        "\n",
        "      get_sample(n): samples n datapoints\n",
        "\n",
        "  \"\"\"\n",
        "\n",
        "  d0min=0 \n",
        "  d0max=10\n",
        "  d1min=0 \n",
        "  d1max=10\n",
        "  scalecov=5\n",
        "  \n",
        "  def __init__(self):\n",
        "    dw0,dw1 = self.d0max-self.d0min, self.d1max-self.d1min\n",
        "    mean = (self.d0min,self.d1min)\n",
        "    mean += np.random.random_sample(2)*(dw0, dw1)\n",
        "    eigvals = np.random.random_sample(2)\n",
        "    eigvals *= (dw0/self.scalecov, dw1/self.scalecov)\n",
        "    eigvals **= 2\n",
        "    theta = np.random.random_sample()*np.pi*2\n",
        "    R = [[np.cos(theta), -np.sin(theta)], \n",
        "         [np.sin(theta), np.cos(theta)]]\n",
        "    Sigma = np.dot(np.dot(np.transpose(R), np.diag(eigvals)), R)\n",
        "    self.get_sample = lambda n: np.random.multivariate_normal(mean,Sigma,n)\n",
        "\n",
        "  \n",
        "def graph_surface(function, rect, offset=0.5, width=800, height=800):\n",
        "  \"\"\"Creates a surface plot (visualize with plt.show)\n",
        "\n",
        "  Arguments:\n",
        "    function: surface to be plotted\n",
        "    rect:     function domain provided as:\n",
        "              ([x_min,y_min], [x_max,y_max])\n",
        "    offset:   the level plotted as a contour plot\n",
        "\n",
        "  Returns:\n",
        "    None\n",
        "  \"\"\"\n",
        "  '''\n",
        "  (65536,)\n",
        "  (256, 256) (256, 256)\n",
        "  (65536, 2)\n",
        "  '''\n",
        "\n",
        "  lsw = np.linspace(rect[0][1], rect[1][1], width) # returns width=256 numbers evenly spaced between miny and maxy\n",
        "  lsh = np.linspace(rect[0][0], rect[1][0], height) # same for x\n",
        "  xx0,xx1 = np.meshgrid(lsh, lsw)\n",
        "  r = xx0.flatten()\n",
        "  print(r.shape)\n",
        "  grid = np.stack((xx0.flatten(),xx1.flatten()), axis=1)\n",
        "  print(xx0.shape, xx1.shape)\n",
        "  #get the values and reshape them\n",
        "  print(grid.shape)\n",
        "  print(function(grid).shape)\n",
        "  values=function(grid).reshape((width,height))\n",
        "  \n",
        "  # fix the range and offset\n",
        "  delta = offset if offset else 0\n",
        "  maxval=max(np.max(values)-delta, - (np.min(values)-delta))\n",
        "  \n",
        "  # draw the surface and the offset\n",
        "  plt.pcolormesh(xx0, xx1, values, vmin=delta-maxval, vmax=delta+maxval)\n",
        "    \n",
        "  if offset != None:\n",
        "    plt.contour(xx0, xx1, values, colors='black', levels=[offset])\n",
        "\n",
        "def graph_data(X,Y_, Y, special=[]):\n",
        "  \"\"\"Creates a scatter plot (visualize with plt.show)\n",
        "\n",
        "  Arguments:\n",
        "      X:       datapoints\n",
        "      Y_:      groundtruth classification indices\n",
        "      Y:       predicted class indices\n",
        "      special: use this to emphasize some points\n",
        "\n",
        "  Returns:\n",
        "      None\n",
        "  \"\"\"\n",
        "  # colors of the datapoint markers\n",
        "  palette=([0.5,0.5,0.5], [1,1,1], [0.2,0.2,0.2])\n",
        "  colors = np.tile([1.0,0.0,0.0], (Y_.shape[0],1))\n",
        "  for i in range(len(palette)):\n",
        "    colors[Y_==i] = palette[i]\n",
        "\n",
        "  # sizes of the datapoint markers\n",
        "  sizes = np.repeat(20, len(Y_))\n",
        "  sizes[special] = 40\n",
        "  \n",
        "  # draw the correctly classified datapoints\n",
        "  good = (Y_==Y)\n",
        "  plt.scatter(X[good,0],X[good,1], c=colors[good], \n",
        "              s=sizes[good], marker='o', edgecolors='black')\n",
        "\n",
        "  # draw the incorrectly classified datapoints\n",
        "  bad = (Y_!=Y)\n",
        "  plt.scatter(X[bad,0],X[bad,1], c=colors[bad], \n",
        "              s=sizes[bad], marker='s', edgecolors='black')\n",
        "\n",
        "\n",
        "def sample_gauss_2d(nclasses, nsamples):\n",
        "  # create the distributions and groundtruth labels\n",
        "  Gs=[]\n",
        "  Ys=[]\n",
        "  for i in range(nclasses):\n",
        "    Gs.append(Random2DGaussian())\n",
        "    Ys.append(i)\n",
        "\n",
        "  # sample the dataset\n",
        "  X = np.vstack([G.get_sample(nsamples) for G in Gs])\n",
        "  Y_= np.hstack([[Y]*nsamples for Y in Ys])\n",
        "  \n",
        "  return X,Y_\n",
        "\n",
        "def sample_gmm_2d(ncomponents, nclasses, nsamples):\n",
        "  # create the distributions and groundtruth labels\n",
        "  Gs=[]\n",
        "  Ys=[]\n",
        "  for i in range(ncomponents):\n",
        "    Gs.append(Random2DGaussian())\n",
        "    Ys.append(np.random.randint(nclasses))\n",
        "\n",
        "  # sample the dataset\n",
        "  X = np.vstack([G.get_sample(nsamples) for G in Gs])\n",
        "  Y_= np.hstack([[Y]*nsamples for Y in Ys])\n",
        "  \n",
        "  return X,Y_"
      ],
      "metadata": {
        "id": "v3ycpzcRODor"
      },
      "execution_count": 26,
      "outputs": []
    },
    {
      "cell_type": "code",
      "source": [
        "np.random.seed(100)\n",
        "  \n",
        "  # get data\n",
        "X,Y_ = sample_gmm_2d(5,4,15)\n",
        "  # X,Y_ = sample_gauss_2d(2, 100)\n",
        "\n",
        "W1, W2, b1, b2 = fcann2_train(X, Y_, 10000, 0.001)\n",
        "  # get the class predictions\n",
        "Y = fcann2_classify(X)\n",
        "\n",
        "  # graph the decision surface\n",
        "rect=(np.min(X, axis=0)-0.5, np.max(X, axis=0)+0.5)\n",
        "\n",
        "graph_surface(fcann2_classify, rect, offset=None)\n",
        "  \n",
        "  # graph the data points\n",
        "graph_data(X, Y_, Y, special=[])\n",
        "\n",
        "plt.show()"
      ],
      "metadata": {
        "colab": {
          "base_uri": "https://localhost:8080/",
          "height": 369
        },
        "id": "Y18lBrYhOsE8",
        "outputId": "5d1a4cc8-da0e-4d50-e6e1-7def90385eb3"
      },
      "execution_count": 27,
      "outputs": [
        {
          "output_type": "stream",
          "name": "stdout",
          "text": [
            "iteration 0: loss 5.821110568218408\n",
            "iteration 5000: loss 0.21206499475573853\n",
            "(640000,)\n",
            "(800, 800) (800, 800)\n",
            "(640000, 2)\n",
            "(640000,)\n"
          ]
        },
        {
          "output_type": "display_data",
          "data": {
            "text/plain": [
              "<Figure size 432x288 with 1 Axes>"
            ],
            "image/png": "[encoded data removed]"
          },
          "metadata": {
            "needs_background": "light"
          }
        }
      ]
    },
    {
      "cell_type": "code",
      "source": [
        ""
      ],
      "metadata": {
        "id": "hb8-siefPMR_"
      },
      "execution_count": 7,
      "outputs": []
    }
  ]
}